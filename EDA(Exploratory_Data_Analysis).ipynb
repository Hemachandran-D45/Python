{
  "nbformat": 4,
  "nbformat_minor": 0,
  "metadata": {
    "colab": {
      "provenance": [],
      "authorship_tag": "ABX9TyNddVPqUdgc7yBbN+uimYaG",
      "include_colab_link": true
    },
    "kernelspec": {
      "name": "python3",
      "display_name": "Python 3"
    },
    "language_info": {
      "name": "python"
    }
  },
  "cells": [
    {
      "cell_type": "markdown",
      "metadata": {
        "id": "view-in-github",
        "colab_type": "text"
      },
      "source": [
        "<a href=\"https://colab.research.google.com/github/Hemachandran-D45/Python/blob/main/EDA(Exploratory_Data_Analysis).ipynb\" target=\"_parent\"><img src=\"https://colab.research.google.com/assets/colab-badge.svg\" alt=\"Open In Colab\"/></a>"
      ]
    },
    {
      "cell_type": "code",
      "execution_count": null,
      "metadata": {
        "id": "IbCe26aMvl-N"
      },
      "outputs": [],
      "source": [
        "!pip install numpy pandas scipy scikit-learn seaborn matplotlib missingno fasteda"
      ]
    },
    {
      "cell_type": "code",
      "source": [
        "import random\n",
        "import numpy as np\n",
        "import pandas as pd\n",
        "import seaborn as sns\n",
        "import matplotlib.pyplot as plt\n",
        "import missingno as msno\n",
        "from scipy.stats import shapiro\n",
        "\n",
        "\n",
        "sns.set_context('notebook')\n",
        "sns.set_style('white')\n"
      ],
      "metadata": {
        "id": "FF4zoQZNv38z"
      },
      "execution_count": 4,
      "outputs": []
    },
    {
      "cell_type": "markdown",
      "source": [
        "#Regression\n",
        "\n",
        "Predict the diabete score after thir bp,bmi,sugar level recorded.\n",
        "\n",
        "#Loading a data\n",
        "The following code loads the diabetes data set from **sklearn** and prints out a description of the data."
      ],
      "metadata": {
        "id": "d0pnLGqbxYFP"
      }
    },
    {
      "cell_type": "code",
      "source": [
        "from sklearn.datasets import load_diabetes, load_iris"
      ],
      "metadata": {
        "id": "Jp-LWQR2yov7"
      },
      "execution_count": 5,
      "outputs": []
    },
    {
      "cell_type": "code",
      "source": [
        "# Load the diabetes dataset with return_X_y=True and as_frame=True to get pandas DataFrames\n",
        "diabetes_x,diabetes_y = load_diabetes(return_X_y=True, as_frame=True)\n",
        "\n",
        "#Concatenate the features (diabetes_X) and target (diabetes_y) into one DataFrame\n",
        "diabetes = pd.concat([diabetes_x,diabetes_y.rename('target')],axis=1)\n",
        "\n",
        "# Load the diabetes dataset again to print the description (without return_X_y)\n",
        "diabetes_default = load_diabetes()\n",
        "\n",
        "# Print the data set description:\n",
        "print(diabetes_default['DESCR'])\n"
      ],
      "metadata": {
        "id": "cjQGxUbZwrZe"
      },
      "execution_count": null,
      "outputs": []
    },
    {
      "cell_type": "code",
      "source": [
        "#Randomly take 5 row as sample\n",
        "diabetes.sample(5)"
      ],
      "metadata": {
        "id": "P7JW67L85BTq"
      },
      "execution_count": null,
      "outputs": []
    },
    {
      "cell_type": "code",
      "source": [
        "#Check whether there is a any missing data\n",
        "diabetes.isna().max(axis=0).max()\n",
        "#if there atleast one missing also it give TRUE"
      ],
      "metadata": {
        "colab": {
          "base_uri": "https://localhost:8080/"
        },
        "id": "AzLoNKKn5owM",
        "outputId": "06758368-2950-48b9-f041-ac95ff40dccf"
      },
      "execution_count": 11,
      "outputs": [
        {
          "output_type": "execute_result",
          "data": {
            "text/plain": [
              "False"
            ]
          },
          "metadata": {},
          "execution_count": 11
        }
      ]
    },
    {
      "cell_type": "code",
      "source": [
        "diabetes.isna().any().any()"
      ],
      "metadata": {
        "colab": {
          "base_uri": "https://localhost:8080/"
        },
        "id": "hGa41h4u61My",
        "outputId": "36a78ae9-3384-40d3-ca1a-558fe296cf40"
      },
      "execution_count": 13,
      "outputs": [
        {
          "output_type": "execute_result",
          "data": {
            "text/plain": [
              "False"
            ]
          },
          "metadata": {},
          "execution_count": 13
        }
      ]
    },
    {
      "cell_type": "code",
      "source": [
        "#Sets a seed for the random number generator to ensure that the random selections are reproducible.\n",
        "random.seed(1234)\n",
        "#select 3 ramdon column\n",
        "missing_col = random.sample(range(len(diabetes.columns) - 1), 3)\n",
        "\n",
        "#Selecting 10% of Rows Randomly:\n",
        "missing_rows = random.sample(diabetes.index.tolist(),int(np.round(len(diabetes.index.tolist())/10)))\n",
        "\n",
        "#selecting specific cell to missing values\n",
        "diabetes.iloc[missing_rows,missing_col] = np.nan"
      ],
      "metadata": {
        "id": "H108f0267mtB"
      },
      "execution_count": 19,
      "outputs": []
    },
    {
      "cell_type": "code",
      "source": [
        "print(sorted(diabetes.columns[missing_col]))"
      ],
      "metadata": {
        "colab": {
          "base_uri": "https://localhost:8080/"
        },
        "id": "vDYlcjRJ-8xu",
        "outputId": "8fb55ec2-d1e6-41ad-d37c-42ebc152806f"
      },
      "execution_count": 20,
      "outputs": [
        {
          "output_type": "stream",
          "name": "stdout",
          "text": [
            "['age', 's4', 'sex']\n"
          ]
        }
      ]
    },
    {
      "cell_type": "code",
      "source": [],
      "metadata": {
        "id": "5-mJZM6B_B88"
      },
      "execution_count": null,
      "outputs": []
    }
  ]
}